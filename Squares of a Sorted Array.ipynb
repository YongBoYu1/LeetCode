{
 "cells": [
  {
   "cell_type": "code",
   "execution_count": 2,
   "metadata": {},
   "outputs": [],
   "source": [
    "def merge(l1, l2):\n",
    "        res = []\n",
    "        i, j =0,0\n",
    "        while i < len(l1) and j < len(l2):\n",
    "            if l1[i] <= l2[j]:\n",
    "                res.append(l1[i])\n",
    "                i+=1\n",
    "            else:\n",
    "                res.append(l2[j])\n",
    "                j+=1\n",
    "        if i < len(l1):\n",
    "            while i < len(l1):\n",
    "                res.append(l1[i])\n",
    "                i+=1\n",
    "        if j < len(l2):\n",
    "            while i < len(l2):\n",
    "                res.append(l2[j])\n",
    "                j+=1\n",
    "        return res"
   ]
  },
  {
   "cell_type": "code",
   "execution_count": 6,
   "metadata": {},
   "outputs": [],
   "source": [
    "def sortedSquares(nums):\n",
    "    pos_list = []\n",
    "    neg_list = []\n",
    "    for num in nums:\n",
    "        if num >=0:\n",
    "            pos_list.append(num)\n",
    "        else:\n",
    "            neg_list.append(num)\n",
    "    merged_list = merge(pos_list, neg_list)\n",
    "    return merged_list"
   ]
  },
  {
   "cell_type": "code",
   "execution_count": 3,
   "metadata": {},
   "outputs": [
    {
     "data": {
      "text/plain": [
       "[1, 2, 3, 4, 5, 6]"
      ]
     },
     "execution_count": 3,
     "metadata": {},
     "output_type": "execute_result"
    }
   ],
   "source": [
    "nums = [-7,-3,2,3,11]\n",
    "sortedSquares(nums)"
   ]
  },
  {
   "cell_type": "code",
   "execution_count": null,
   "metadata": {},
   "outputs": [],
   "source": []
  }
 ],
 "metadata": {
  "kernelspec": {
   "display_name": "base",
   "language": "python",
   "name": "python3"
  },
  "language_info": {
   "codemirror_mode": {
    "name": "ipython",
    "version": 3
   },
   "file_extension": ".py",
   "mimetype": "text/x-python",
   "name": "python",
   "nbconvert_exporter": "python",
   "pygments_lexer": "ipython3",
   "version": "3.8.8"
  },
  "orig_nbformat": 4
 },
 "nbformat": 4,
 "nbformat_minor": 2
}
