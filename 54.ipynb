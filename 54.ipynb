{
 "cells": [
  {
   "cell_type": "code",
   "execution_count": 126,
   "id": "c7cc7b81",
   "metadata": {},
   "outputs": [],
   "source": [
    "matrix = [[1,2,3,4],[5,6,7,8],[9,10,11,12]]"
   ]
  },
  {
   "cell_type": "code",
   "execution_count": 127,
   "id": "95f46ae5",
   "metadata": {},
   "outputs": [
    {
     "data": {
      "text/plain": [
       "[1]"
      ]
     },
     "execution_count": 127,
     "metadata": {},
     "output_type": "execute_result"
    }
   ],
   "source": [
    "matrix[0][0:1]"
   ]
  },
  {
   "cell_type": "code",
   "execution_count": 130,
   "id": "0899e1a3",
   "metadata": {},
   "outputs": [],
   "source": [
    "def spiralOrder(matrix):\n",
    "    \"\"\"\n",
    "    :type matrix: List[List[int]]\n",
    "    :rtype: List[int]\n",
    "    \"\"\"\n",
    "    def get_values(m, direction, top_i, left_i, right_i, button_i):\n",
    "        if direction == 'right':\n",
    "            values = m[top_i][left_i:right_i]\n",
    "        if direction =='down':\n",
    "            values = [m[i][right_i-1]for i in range(top_i, button_i)]\n",
    "        if direction == 'left':\n",
    "            values =[m[button_i-1][i] for i in range(right_i-1, left_i-1, -1)]\n",
    "        if direction == 'up':\n",
    "            values = [m[i][left_i]for i in range(button_i-1, top_i-1, -1)]\n",
    "        return values\n",
    "        \n",
    "    top_i, left_i = 0,0\n",
    "    button_i, right_i = len(matrix), len(matrix[0])\n",
    "    res = []\n",
    "    while top_i < button_i and left_i < right_i:\n",
    "\n",
    "        val = get_values(matrix, 'right', top_i, left_i, right_i, button_i)\n",
    "        res.extend(val)\n",
    "    \n",
    "        top_i = top_i+1\n",
    "        print(res)\n",
    "        val = get_values(matrix, 'down', top_i, left_i, right_i, button_i)\n",
    "        res.extend(val)\n",
    "        right_i = right_i-1\n",
    "        if top_i != button_i:\n",
    "            val = get_values(matrix, 'left', top_i, left_i, right_i, button_i)\n",
    "            res.extend(val)\n",
    "            button_i = button_i-1\n",
    "        if left_i != right_i:\n",
    "            val = get_values(matrix, 'up', top_i, left_i, right_i, button_i)\n",
    "            res.extend(val)\n",
    "            left_i = left_i+1\n",
    "    return res"
   ]
  },
  {
   "cell_type": "code",
   "execution_count": 131,
   "id": "122f23de",
   "metadata": {},
   "outputs": [
    {
     "name": "stdout",
     "output_type": "stream",
     "text": [
      "[1, 2, 3, 4]\n",
      "[1, 2, 3, 4, 8, 12, 11, 10, 9, 5, 6, 7]\n"
     ]
    },
    {
     "data": {
      "text/plain": [
       "[1, 2, 3, 4, 8, 12, 11, 10, 9, 5, 6, 7]"
      ]
     },
     "execution_count": 131,
     "metadata": {},
     "output_type": "execute_result"
    }
   ],
   "source": [
    "spiralOrder(matrix)"
   ]
  },
  {
   "cell_type": "code",
   "execution_count": 116,
   "id": "bcdfc8bd",
   "metadata": {},
   "outputs": [
    {
     "name": "stdout",
     "output_type": "stream",
     "text": [
      "5\n",
      "4\n",
      "3\n",
      "2\n"
     ]
    }
   ],
   "source": [
    "for i in range(5, 1, -1):\n",
    "    print(i)"
   ]
  },
  {
   "cell_type": "code",
   "execution_count": null,
   "id": "6d0235ae",
   "metadata": {},
   "outputs": [],
   "source": []
  }
 ],
 "metadata": {
  "kernelspec": {
   "display_name": "Python 3 (ipykernel)",
   "language": "python",
   "name": "python3"
  },
  "language_info": {
   "codemirror_mode": {
    "name": "ipython",
    "version": 3
   },
   "file_extension": ".py",
   "mimetype": "text/x-python",
   "name": "python",
   "nbconvert_exporter": "python",
   "pygments_lexer": "ipython3",
   "version": "3.8.8"
  }
 },
 "nbformat": 4,
 "nbformat_minor": 5
}
