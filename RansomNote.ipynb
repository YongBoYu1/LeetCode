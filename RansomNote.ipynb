{
 "cells": [
  {
   "cell_type": "markdown",
   "metadata": {},
   "source": [
    "Given two strings ransomNote and magazine, return true if ransomNote can be constructed by using the letters from magazine and false otherwise.\n",
    "\n",
    "Each letter in magazine can only be used once in ransomNote."
   ]
  },
  {
   "cell_type": "code",
   "execution_count": 1,
   "metadata": {},
   "outputs": [],
   "source": [
    "ransomNote = \"fihjjjjei\"\n",
    "magazine = \"hjibagacbhadfaefdjaeaebgi\""
   ]
  },
  {
   "cell_type": "code",
   "execution_count": 2,
   "metadata": {},
   "outputs": [],
   "source": [
    "def canConstruct(ransomNote, magazine):\n",
    "    \"\"\"\n",
    "    :type ransomNote: str\n",
    "    :type magazine: str\n",
    "    :rtype: bool\n",
    "    \"\"\"\n",
    "    def str_to_dict(string):\n",
    "        word_dict ={}\n",
    "        for char in string:\n",
    "            if char not in word_dict:\n",
    "                word_dict[char] = 0\n",
    "            word_dict[char] += 1\n",
    "        return word_dict\n",
    "\n",
    "    magazine_dict = str_to_dict(magazine)\n",
    "    ransomNote_dict = str_to_dict(ransomNote)\n",
    "\n",
    "    for char in ransomNote_dict:\n",
    "        # Loop through the count of each char in ransomnote\n",
    "        # If all the char exist in megazine and has at least the same count as the ransomnote, \n",
    "        # the ransomnote is constructable.\n",
    "\n",
    "        if char not in magazine_dict:\n",
    "            return False\n",
    "        if ransomNote_dict[char] > magazine_dict[char]:\n",
    "            return False\n",
    "    return True"
   ]
  },
  {
   "cell_type": "code",
   "execution_count": 3,
   "metadata": {},
   "outputs": [
    {
     "data": {
      "text/plain": [
       "True"
      ]
     },
     "execution_count": 3,
     "metadata": {},
     "output_type": "execute_result"
    }
   ],
   "source": [
    "canConstruct(ransomNote, magazine)"
   ]
  },
  {
   "cell_type": "code",
   "execution_count": null,
   "metadata": {},
   "outputs": [],
   "source": []
  }
 ],
 "metadata": {
  "kernelspec": {
   "display_name": "base",
   "language": "python",
   "name": "python3"
  },
  "language_info": {
   "codemirror_mode": {
    "name": "ipython",
    "version": 3
   },
   "file_extension": ".py",
   "mimetype": "text/x-python",
   "name": "python",
   "nbconvert_exporter": "python",
   "pygments_lexer": "ipython3",
   "version": "3.8.8"
  },
  "orig_nbformat": 4
 },
 "nbformat": 4,
 "nbformat_minor": 2
}
