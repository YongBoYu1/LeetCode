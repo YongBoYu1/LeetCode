{
 "cells": [
  {
   "cell_type": "markdown",
   "id": "a81055c7",
   "metadata": {},
   "source": [
    "## Problem Summary\n",
    "Given an integer array nums sorted in non-decreasing order, return an array of the squares of each number sorted in non-decreasing order.\n",
    "\n"
   ]
  },
  {
   "cell_type": "code",
   "execution_count": 11,
   "id": "42e35d4e",
   "metadata": {},
   "outputs": [],
   "source": [
    "nums = [-4,-1,0,3,10]\n"
   ]
  },
  {
   "cell_type": "code",
   "execution_count": 52,
   "id": "2ee80ada",
   "metadata": {},
   "outputs": [
    {
     "name": "stdout",
     "output_type": "stream",
     "text": [
      "-4 10\n",
      "current i, j 0,4\n",
      "[]\n",
      "-4 3\n",
      "current i, j 0,3\n",
      "[10]\n",
      "-1 3\n",
      "current i, j 1,3\n",
      "[10, 4]\n",
      "-1 0\n",
      "current i, j 1,2\n",
      "[10, 4, 3]\n",
      "0 0\n",
      "current i, j 2,2\n",
      "[10, 4, 3, 1]\n"
     ]
    }
   ],
   "source": [
    "i,j = 0, len(nums)-1\n",
    "res = []\n",
    "while i<=j:\n",
    "    left_num = nums[i]\n",
    "    right_num = nums[j]\n",
    "    print(left_num, right_num)\n",
    "    print(f\"current i, j {i},{j}\")\n",
    "    print(res)\n",
    "    \n",
    "#     if left_num >= 0 and right_num >= 0:\n",
    "#         rest_nums = nums[j:i:-1]\n",
    "#         res = res + [x* -1 for x in rest_nums]\n",
    "#         break\n",
    "    # If left is negative and right id \n",
    "    if left_num < 0 and right_num >= 0:\n",
    "        left_num = left_num *-1\n",
    "        if left_num > right_num:\n",
    "            res.append(left_num)\n",
    "            i+=1\n",
    "            continue\n",
    "        else:\n",
    "            res.append(right_num)\n",
    "            j-=1\n",
    "            continue\n",
    "    else:\n",
    "        if left_num > right_num:\n",
    "            res.append(left_num)\n",
    "            i+=1\n",
    "            continue\n",
    "        else:\n",
    "            res.append(right_num)\n",
    "            j-=1\n",
    "            \n",
    "            continue\n",
    "    else:\n",
    "        \n",
    "    print(f\"Next i, j {i},{j}\")"
   ]
  },
  {
   "cell_type": "code",
   "execution_count": 53,
   "id": "358534cd",
   "metadata": {},
   "outputs": [
    {
     "data": {
      "text/plain": [
       "[10, 4, 3, 1, 0]"
      ]
     },
     "execution_count": 53,
     "metadata": {},
     "output_type": "execute_result"
    }
   ],
   "source": [
    "res"
   ]
  },
  {
   "cell_type": "code",
   "execution_count": null,
   "id": "cf9feb94",
   "metadata": {},
   "outputs": [],
   "source": []
  }
 ],
 "metadata": {
  "kernelspec": {
   "display_name": "Python 3 (ipykernel)",
   "language": "python",
   "name": "python3"
  },
  "language_info": {
   "codemirror_mode": {
    "name": "ipython",
    "version": 3
   },
   "file_extension": ".py",
   "mimetype": "text/x-python",
   "name": "python",
   "nbconvert_exporter": "python",
   "pygments_lexer": "ipython3",
   "version": "3.8.8"
  }
 },
 "nbformat": 4,
 "nbformat_minor": 5
}
