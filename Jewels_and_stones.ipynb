{
 "cells": [
  {
   "cell_type": "markdown",
   "metadata": {},
   "source": [
    "You're given strings jewels representing the types of stones that are jewels, and stones representing the stones you have. Each character in stones is a type of stone you have. You want to know how many of the stones you have are also jewels.\n",
    "\n",
    "Letters are case sensitive, so \"a\" is considered a different type of stone from \"A\".\n",
    "\n",
    "jewels = \"aA\", stones = \"aAAbbbb\"\n",
    "Output: 3"
   ]
  },
  {
   "cell_type": "code",
   "execution_count": null,
   "metadata": {},
   "outputs": [],
   "source": [
    "def numJewelsInStones(jewels, stones):\n",
    "    \"\"\"\n",
    "    :type jewels: str\n",
    "    :type stones: str\n",
    "    :rtype: int\n",
    "    \"\"\"\n",
    "    def str_to_dict(string):\n",
    "        word_dict ={}\n",
    "        for char in string:\n",
    "            if char not in word_dict:\n",
    "                word_dict[char] = 0\n",
    "            word_dict[char] += 1\n",
    "        return word_dict\n",
    "    stones_dict = str_to_dict(stones)\n",
    "    res = 0\n",
    "    for jew in jewels:\n",
    "        if jew not in stones_dict:\n",
    "            continue\n",
    "        else:\n",
    "            res += stones_dict[jew]\n",
    "    return res"
   ]
  },
  {
   "cell_type": "code",
   "execution_count": null,
   "metadata": {},
   "outputs": [],
   "source": [
    "def numJewelsInStones(jewels, stones):\n",
    "    \"\"\"\n",
    "    :type jewels: str\n",
    "    :type stones: str\n",
    "    :rtype: int\n",
    "    \"\"\"\n",
    "    res = 0\n",
    "    for stone in stones:\n",
    "        if stone in jewels:\n",
    "            res += 1\n",
    "    return res"
   ]
  }
 ],
 "metadata": {
  "language_info": {
   "name": "python"
  },
  "orig_nbformat": 4
 },
 "nbformat": 4,
 "nbformat_minor": 2
}
