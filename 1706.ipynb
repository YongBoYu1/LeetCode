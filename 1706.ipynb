{
 "cells": [
  {
   "cell_type": "code",
   "execution_count": 58,
   "id": "15cb57fe",
   "metadata": {},
   "outputs": [],
   "source": [
    "#grid = [[1,1,1,-1,-1],[1,1,1,-1,-1],[-1,-1,-1,1,1],[1,1,1,1,-1],[-1,-1,-1,-1,-1]]\n",
    "grid= [[-1]]"
   ]
  },
  {
   "cell_type": "code",
   "execution_count": 59,
   "id": "59723517",
   "metadata": {},
   "outputs": [],
   "source": [
    "path = [[-1 for i in range(len(grid[0]))] for i in range(len(grid))]\n",
    "for i in range(len(grid[0])):\n",
    "    path[0][i] =1"
   ]
  },
  {
   "cell_type": "code",
   "execution_count": 60,
   "id": "e6cc2f97",
   "metadata": {},
   "outputs": [
    {
     "data": {
      "text/plain": [
       "[[1]]"
      ]
     },
     "execution_count": 60,
     "metadata": {},
     "output_type": "execute_result"
    }
   ],
   "source": [
    "def solution:\n",
    "    if len(g)"
   ]
  },
  {
   "cell_type": "code",
   "execution_count": 61,
   "id": "61f4f8ad",
   "metadata": {},
   "outputs": [],
   "source": [
    "for row in range(len(path)-1):\n",
    "    for col in range(len(path[0])-1):\n",
    "        if row==0 and col ==0:\n",
    "            if grid[row][col] == -1:\n",
    "                path[row][col] == -1\n",
    "        if  row==len(grid)-1 and col ==0:\n",
    "            if grid[row][col] == 1:\n",
    "                path[row][col] == -1\n",
    "        if path[row][col]==1:\n",
    "            if grid[row][col] == 1 and grid[row][col+1] == 1: # \\\\\n",
    "                path[row+1][col+1] =1\n",
    "            if grid[row][col] == -1 and grid[row][col-1] == -1: # //\n",
    "                path[row+1][col-1] =1"
   ]
  },
  {
   "cell_type": "code",
   "execution_count": 62,
   "id": "82c5cd53",
   "metadata": {},
   "outputs": [
    {
     "data": {
      "text/plain": [
       "[[1]]"
      ]
     },
     "execution_count": 62,
     "metadata": {},
     "output_type": "execute_result"
    }
   ],
   "source": [
    "path"
   ]
  },
  {
   "cell_type": "code",
   "execution_count": 64,
   "id": "812cfde6",
   "metadata": {},
   "outputs": [
    {
     "data": {
      "text/plain": [
       "['y', 't', '/']"
      ]
     },
     "execution_count": 64,
     "metadata": {},
     "output_type": "execute_result"
    }
   ],
   "source": [
    "list(set('tty/'))"
   ]
  },
  {
   "cell_type": "code",
   "execution_count": 1,
   "id": "76379691",
   "metadata": {},
   "outputs": [
    {
     "data": {
      "text/plain": [
       "1214.3600000000001"
      ]
     },
     "execution_count": 1,
     "metadata": {},
     "output_type": "execute_result"
    }
   ],
   "source": [
    "746.99+467.37"
   ]
  },
  {
   "cell_type": "code",
   "execution_count": 2,
   "id": "25dd74e4",
   "metadata": {},
   "outputs": [
    {
     "data": {
      "text/plain": [
       "12.75"
      ]
     },
     "execution_count": 2,
     "metadata": {},
     "output_type": "execute_result"
    }
   ],
   "source": [
    "sum([12, -5, -6, 50]) /4"
   ]
  },
  {
   "cell_type": "code",
   "execution_count": null,
   "id": "4054c317",
   "metadata": {},
   "outputs": [],
   "source": []
  }
 ],
 "metadata": {
  "kernelspec": {
   "display_name": "base",
   "language": "python",
   "name": "python3"
  },
  "language_info": {
   "codemirror_mode": {
    "name": "ipython",
    "version": 3
   },
   "file_extension": ".py",
   "mimetype": "text/x-python",
   "name": "python",
   "nbconvert_exporter": "python",
   "pygments_lexer": "ipython3",
   "version": "3.8.8"
  },
  "vscode": {
   "interpreter": {
    "hash": "b9458348001315a4319c340f19fe626937aaa18ec6daf864272ad1ece735ddb5"
   }
  }
 },
 "nbformat": 4,
 "nbformat_minor": 5
}
