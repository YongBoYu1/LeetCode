{
 "cells": [
  {
   "cell_type": "markdown",
   "metadata": {},
   "source": [
    "Given a string text, you want to use the characters of text to form as many instances of the word \"balloon\" as possible.\n",
    "\n",
    "You can use each character in text at most once. Return the maximum number of instances that can be formed."
   ]
  },
  {
   "cell_type": "code",
   "execution_count": 2,
   "metadata": {},
   "outputs": [],
   "source": [
    "balloon_dict = {'b':1,\n",
    "               'a':1,\n",
    "               'l':2,\n",
    "               'o':2,\n",
    "               'n':1}\n",
    "\n",
    "test_word = '\"krhizmmgmcrecekgyljqkldocicziihtgpqwbticmvuyznragqoyrukzopfmjhjjxemsxmrsxuqmnkrzhgvtgdgtykhcglurvppvcwhrhrjoislonvvglhdciilduvuiebmffaagxerjeewmtcwmhmtwlxtvlbocczlrppmpjbpnifqtlninyzjtmazxdbzwxthpvrfulvrspycqcghuopjirzoeuqhetnbrcdakilzmklxwudxxhwilasbjjhhfgghogqoofsufysmcqeilaivtmfziumjloewbkjvaahsaaggteppqyuoylgpbdwqubaalfwcqrjeycjbbpifjbpigjdnnswocusuprydgrtxuaojeriigwumlovafxnpibjopjfqzrwemoinmptxddgcszmfprdrichjeqcvikynzigleaajcysusqasqadjemgnyvmzmbcfrttrzonwafrnedglhpudovigwvpimttiketopkvqw\"'"
   ]
  },
  {
   "cell_type": "code",
   "execution_count": 31,
   "metadata": {},
   "outputs": [],
   "source": [
    "def maxNumberOfBalloons(text):\n",
    "    \"\"\"\n",
    "    :type text: str\n",
    "    :rtype: int\n",
    "    \"\"\"\n",
    "    def str_to_dict(string):\n",
    "        word_dict ={}\n",
    "        for char in string:\n",
    "            if char not in word_dict:\n",
    "                word_dict[char] = 0\n",
    "            word_dict[char] += 1\n",
    "        return word_dict\n",
    "\n",
    "\n",
    "    balloon = 'balloon'\n",
    "    balloon_sub_str = ''\n",
    "    for char in text:\n",
    "        if char in balloon:\n",
    "            balloon_sub_str += char\n",
    "    #print(balloon_sub_str)\n",
    "\n",
    "    balloon_dict = str_to_dict(balloon)\n",
    "    sub_str_dict = str_to_dict(balloon_sub_str)\n",
    "    print(sub_str_dict)\n",
    "    print(balloon_dict)\n",
    "    if len(balloon_dict) != len(sub_str_dict):\n",
    "        return 0\n",
    "    else:\n",
    "        counter = [sub_str_dict[x] // balloon_dict[x] for x in sub_str_dict]\n",
    "        return sorted(counter)[0]"
   ]
  },
  {
   "cell_type": "code",
   "execution_count": 15,
   "metadata": {},
   "outputs": [],
   "source": [
    "def maxNumberOfBalloons_sol(text):\n",
    "    \"\"\"\n",
    "    :type text: str\n",
    "    :rtype: int\n",
    "    \"\"\"\n",
    "    text_dict = {}\n",
    "    for char in text:\n",
    "        if char not in text_dict:\n",
    "            text_dict[char] = 0\n",
    "        text_dict[char] += 1\n",
    "    balloon = 'balon'\n",
    "    min_word = float('inf')\n",
    "    for char in balloon:\n",
    "        if char not in text_dict:\n",
    "            return 0\n",
    "        if char=='l' or char=='o':\n",
    "            min_word = min(text_dict[char]//2, min_word)\n",
    "        min_word = min(text_dict[char], min_word)\n",
    "    return min_word"
   ]
  },
  {
   "cell_type": "code",
   "execution_count": null,
   "metadata": {},
   "outputs": [],
   "source": []
  },
  {
   "cell_type": "code",
   "execution_count": 16,
   "metadata": {},
   "outputs": [
    {
     "data": {
      "text/plain": [
       "10"
      ]
     },
     "execution_count": 16,
     "metadata": {},
     "output_type": "execute_result"
    }
   ],
   "source": [
    "maxNumberOfBalloons_sol(test_word)"
   ]
  },
  {
   "cell_type": "code",
   "execution_count": null,
   "metadata": {},
   "outputs": [],
   "source": []
  }
 ],
 "metadata": {
  "kernelspec": {
   "display_name": "base",
   "language": "python",
   "name": "python3"
  },
  "language_info": {
   "codemirror_mode": {
    "name": "ipython",
    "version": 3
   },
   "file_extension": ".py",
   "mimetype": "text/x-python",
   "name": "python",
   "nbconvert_exporter": "python",
   "pygments_lexer": "ipython3",
   "version": "3.8.8"
  },
  "orig_nbformat": 4
 },
 "nbformat": 4,
 "nbformat_minor": 2
}
