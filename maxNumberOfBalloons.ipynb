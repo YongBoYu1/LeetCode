{
 "cells": [
  {
   "cell_type": "markdown",
   "metadata": {},
   "source": [
    "Given a string text, you want to use the characters of text to form as many instances of the word \"balloon\" as possible.\n",
    "\n",
    "You can use each character in text at most once. Return the maximum number of instances that can be formed."
   ]
  },
  {
   "cell_type": "code",
   "execution_count": 11,
   "metadata": {},
   "outputs": [],
   "source": [
    "balloon_dict = {'b':1,\n",
    "               'a':1,\n",
    "               'l':2,\n",
    "               'o':2,\n",
    "               'n':1}\n",
    "\n",
    "test_word = '\"krhizmmgmcrecekgyljqkldocicziihtgpqwbticmvuyznragqoyrukzopfmjhjjxemsxmrsxuqmnkrzhgvtgdgtykhcglurvppvcwhrhrjoislonvvglhdciilduvuiebmffaagxerjeewmtcwmhmtwlxtvlbocczlrppmpjbpnifqtlninyzjtmazxdbzwxthpvrfulvrspycqcghuopjirzoeuqhetnbrcdakilzmklxwudxxhwilasbjjhhfgghogqoofsufysmcqeilaivtmfziumjloewbkjvaahsaaggteppqyuoylgpbdwqubaalfwcqrjeycjbbpifjbpigjdnnswocusuprydgrtxuaojeriigwumlovafxnpibjopjfqzrwemoinmptxddgcszmfprdrichjeqcvikynzigleaajcysusqasqadjemgnyvmzmbcfrttrzonwafrnedglhpudovigwvpimttiketopkvqw\"'"
   ]
  },
  {
   "cell_type": "code",
   "execution_count": 31,
   "metadata": {},
   "outputs": [],
   "source": [
    "def maxNumberOfBalloons(text):\n",
    "    \"\"\"\n",
    "    :type text: str\n",
    "    :rtype: int\n",
    "    \"\"\"\n",
    "    def str_to_dict(string):\n",
    "        word_dict ={}\n",
    "        for char in string:\n",
    "            if char not in word_dict:\n",
    "                word_dict[char] = 0\n",
    "            word_dict[char] += 1\n",
    "        return word_dict\n",
    "\n",
    "\n",
    "    balloon = 'balloon'\n",
    "    balloon_sub_str = ''\n",
    "    for char in text:\n",
    "        if char in balloon:\n",
    "            balloon_sub_str += char\n",
    "    #print(balloon_sub_str)\n",
    "\n",
    "    balloon_dict = str_to_dict(balloon)\n",
    "    sub_str_dict = str_to_dict(balloon_sub_str)\n",
    "    print(sub_str_dict)\n",
    "    print(balloon_dict)\n",
    "    if len(balloon_dict) != len(sub_str_dict):\n",
    "        return 0\n",
    "    else:\n",
    "        counter = [sub_str_dict[x] // balloon_dict[x] for x in sub_str_dict]\n",
    "        return sorted(counter)[0]"
   ]
  },
  {
   "cell_type": "code",
   "execution_count": 32,
   "metadata": {},
   "outputs": [
    {
     "name": "stdout",
     "output_type": "stream",
     "text": [
      "{'l': 21, 'o': 21, 'b': 15, 'n': 15, 'a': 20}\n",
      "{'b': 1, 'a': 1, 'l': 2, 'o': 2, 'n': 1}\n"
     ]
    },
    {
     "data": {
      "text/plain": [
       "10"
      ]
     },
     "execution_count": 32,
     "metadata": {},
     "output_type": "execute_result"
    }
   ],
   "source": [
    "maxNumberOfBalloons(test_word)"
   ]
  },
  {
   "cell_type": "code",
   "execution_count": 30,
   "metadata": {},
   "outputs": [
    {
     "data": {
      "text/plain": [
       "[10, 10, 15, 15, 20]"
      ]
     },
     "execution_count": 30,
     "metadata": {},
     "output_type": "execute_result"
    }
   ],
   "source": [
    "sorted([10, 10, 15, 15, 20])"
   ]
  },
  {
   "cell_type": "code",
   "execution_count": null,
   "metadata": {},
   "outputs": [],
   "source": []
  }
 ],
 "metadata": {
  "kernelspec": {
   "display_name": "base",
   "language": "python",
   "name": "python3"
  },
  "language_info": {
   "codemirror_mode": {
    "name": "ipython",
    "version": 3
   },
   "file_extension": ".py",
   "mimetype": "text/x-python",
   "name": "python",
   "nbconvert_exporter": "python",
   "pygments_lexer": "ipython3",
   "version": "3.8.8"
  },
  "orig_nbformat": 4
 },
 "nbformat": 4,
 "nbformat_minor": 2
}
