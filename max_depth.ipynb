{
 "cells": [
  {
   "cell_type": "code",
   "execution_count": null,
   "metadata": {},
   "outputs": [],
   "source": [
    "def max_depth(head):\n",
    "    \"\"\"_summary_\n",
    "\n",
    "    Args:\n",
    "        head (Node): The root of the tree node\n",
    "\n",
    "    Returns:\n",
    "        int: Return the max lengtrh of a binary tree\n",
    "    \"\"\"\n",
    "    if not head:\n",
    "        # base case, return 0 if reach the leaf node\n",
    "        return 0\n",
    "\n",
    "    # The left sub tree\n",
    "    left = max_depth(head.left)\n",
    "    # The right sub tree\n",
    "    right = max_depth(head.right)\n",
    "\n",
    "    # The \n",
    "    return max(left, right)+1"
   ]
  },
  {
   "cell_type": "code",
   "execution_count": null,
   "metadata": {},
   "outputs": [],
   "source": [
    "class Solution:\n",
    "    \"\"\"\n",
    "        A BFS SOlution\n",
    "    \"\"\"\n",
    "    def maxDepth(self, root: Optional[TreeNode]) -> int:\n",
    "        max_depth =0\n",
    "        if not root:\n",
    "            return 0\n",
    "        queue = []\n",
    "        queue.append(root)\n",
    "        while queue:\n",
    "            max_depth +=1\n",
    "            cur_queue=[]\n",
    "            for element in queue:\n",
    "                if element.left:\n",
    "                    cur_queue.append(element.left)\n",
    "                if element.right:\n",
    "                    cur_queue.append(element.right)\n",
    "                    \n",
    "            queue = cur_queue    \n",
    "           # max_depth +=1\n",
    "            \n",
    "            #print(queue)\n",
    "        return max_depth"
   ]
  },
  {
   "cell_type": "code",
   "execution_count": null,
   "metadata": {},
   "outputs": [],
   "source": [
    "class Solution:\n",
    "    \"\"\"\n",
    "        A DFS SOlution\n",
    "    \"\"\"\n",
    "    def maxDepth(self, root: Optional[TreeNode]) -> int:\n",
    "        max_depth =0\n",
    "        if not root:\n",
    "            return 0\n",
    "        stack = []\n",
    "        stack.append(root,1)\n",
    "        ans = 0\n",
    "        while stack:\n",
    "            max_depth +=1\n",
    "            cur_node=stack.pop()\n",
    "            "
   ]
  }
 ],
 "metadata": {
  "language_info": {
   "name": "python"
  },
  "orig_nbformat": 4
 },
 "nbformat": 4,
 "nbformat_minor": 2
}
